{
  "cells": [
    {
      "cell_type": "markdown",
      "metadata": {
        "id": "We1M0nekLpKM"
      },
      "source": [
        "### Loading dataset"
      ]
    },
    {
      "cell_type": "code",
      "execution_count": 1,
      "metadata": {
        "colab": {
          "base_uri": "https://localhost:8080/"
        },
        "id": "4sOYTZMCLqmv",
        "outputId": "e7b07008-4746-4d73-fe98-01051b675499"
      },
      "outputs": [
        {
          "name": "stdout",
          "output_type": "stream",
          "text": [
            "Drive already mounted at /content/drive; to attempt to forcibly remount, call drive.mount(\"/content/drive\", force_remount=True).\n",
            "All file names saved to all_log_files.txt \n"
          ]
        }
      ],
      "source": [
        "from google.colab import drive\n",
        "from google.colab import files\n",
        "import os\n",
        "\n",
        "# Mount Google Drive\n",
        "drive.mount('/content/drive')\n",
        "\n",
        "# Path to dataset file on Google Drive\n",
        "folder_path2014 = \"/content/drive/MyDrive/SEM 06/6SP/Raw Operational Data from Enterprise Application - KAGGLE.zip (Unzipped Files)/2014\"\n",
        "folder_path2015 = \"/content/drive/MyDrive/SEM 06/6SP/Raw Operational Data from Enterprise Application - KAGGLE.zip (Unzipped Files)/2015\"\n",
        "\n",
        "folders = [folder_path2014, folder_path2015]\n",
        "\n",
        "# Log file list\n",
        "log_files = []\n",
        "\n",
        "file_path = \"/content/drive/MyDrive/SEM 06/6SP/all_log_files.txt\"\n",
        "\n",
        "# Open the file in write mode\n",
        "with open(file_path, 'w') as file:\n",
        "  for folder in folders:\n",
        "    for dirname, _, filenames in os.walk(folder):\n",
        "        for filename in filenames:\n",
        "            # print(os.path.join(dirname, filename))\n",
        "            # Write content to the file\n",
        "            file.write(os.path.join(dirname, filename))\n",
        "            file.write(\"\\n\")\n",
        "\n",
        "\n",
        "print(\"All file names saved to all_log_files.txt \")"
      ]
    },
    {
      "cell_type": "code",
      "execution_count": 2,
      "metadata": {
        "colab": {
          "base_uri": "https://localhost:8080/"
        },
        "id": "rjwz03zyXRv9",
        "outputId": "3264ed55-e9f1-4037-dbd8-2fc11ef98c5f"
      },
      "outputs": [
        {
          "name": "stdout",
          "output_type": "stream",
          "text": [
            "[2717, 1928, 15998, 13102, 2475, 2946, 3202, 4221, 13337, 5960, 2197, 12459, 18289, 7205, 14482, 10382, 13329, 6120, 9511, 2186, 1162, 12022, 12036, 16081, 11029, 5559, 4796, 53, 11824, 10998, 15258, 356, 1049, 8595, 95, 4250, 7062, 7283, 16745, 1671, 9164, 4433, 8433, 9181, 8866, 15426, 11103, 10817, 16854, 5513, 1987, 9156, 18282, 9379, 17820, 4223, 12138, 17733, 10276, 14700, 4157, 6887, 7877, 5014, 3548, 4992, 995, 16648, 6504, 6696, 5172, 14665, 4768, 1110, 1554, 6226, 7487, 6351, 10576, 16446, 13158, 14736, 5578, 4003, 5642, 15246, 5124, 7068, 12894, 17160, 8336, 12186, 12731, 11026, 7128, 443, 15133, 14372, 16147, 9335]\n"
          ]
        }
      ],
      "source": [
        "import random\n",
        "\n",
        "# Set the range for random numbers\n",
        "start_range = 1\n",
        "end_range = 18337\n",
        "num_samples = 100\n",
        "\n",
        "# Generate a list of random numbers\n",
        "random_numbers = random.sample(range(start_range, end_range + 1), num_samples)\n",
        "\n",
        "# Print the list of random numbers\n",
        "print(random_numbers)"
      ]
    },
    {
      "cell_type": "markdown",
      "metadata": {
        "id": "ItD4kdPpT8lp"
      },
      "source": [
        "### Creating dataframes from log files\n"
      ]
    },
    {
      "cell_type": "code",
      "execution_count": 3,
      "metadata": {
        "colab": {
          "base_uri": "https://localhost:8080/"
        },
        "id": "wFG14kpnV9d9",
        "outputId": "b5b06219-4a8f-4160-8912-ec3291422994"
      },
      "outputs": [
        {
          "name": "stdout",
          "output_type": "stream",
          "text": [
            "100\n"
          ]
        }
      ],
      "source": [
        "import pandas as pd\n",
        "\n",
        "# Read the CSV file into a DataFrame\n",
        "df = pd.read_csv(file_path)\n",
        "\n",
        "# List of dataframes\n",
        "dfs = []\n",
        "\n",
        "\n",
        "# file_path = \"/content/drive/MyDrive/SEM 06/6SP/all_log_files.txt\"\n",
        "\n",
        "i = 0 # For line number\n",
        "\n",
        "# Open the file in read mode\n",
        "with open(file_path, 'r') as file:\n",
        "    # Read the file line by line\n",
        "    for line in file:\n",
        "      i += 1\n",
        "      if i > max(random_numbers):\n",
        "        break\n",
        "      if i in random_numbers:\n",
        "        dfs.append( pd.read_csv(line.strip(),low_memory=False))\n",
        "\n",
        "\n",
        "print(len(dfs))\n"
      ]
    },
    {
      "cell_type": "markdown",
      "metadata": {
        "id": "wjVyxvRPc3Kf"
      },
      "source": [
        "### Viewing some df from dfs"
      ]
    },
    {
      "cell_type": "code",
      "execution_count": 4,
      "metadata": {
        "colab": {
          "base_uri": "https://localhost:8080/",
          "height": 404
        },
        "id": "_iDiXhdKc2ph",
        "outputId": "75ac66bf-4c60-4a99-8d01-2d3bfc27d79a"
      },
      "outputs": [
        {
          "data": {
            "text/html": [
              "\n",
              "  <div id=\"df-ebcba6a5-806e-408b-acd5-1779f4a985ff\">\n",
              "    <div class=\"colab-df-container\">\n",
              "      <div>\n",
              "<style scoped>\n",
              "    .dataframe tbody tr th:only-of-type {\n",
              "        vertical-align: middle;\n",
              "    }\n",
              "\n",
              "    .dataframe tbody tr th {\n",
              "        vertical-align: top;\n",
              "    }\n",
              "\n",
              "    .dataframe thead th {\n",
              "        text-align: right;\n",
              "    }\n",
              "</style>\n",
              "<table border=\"1\" class=\"dataframe\">\n",
              "  <thead>\n",
              "    <tr style=\"text-align: right;\">\n",
              "      <th></th>\n",
              "      <th>Date</th>\n",
              "      <th>\\User\\users</th>\n",
              "      <th>\\Memory\\total</th>\n",
              "      <th>\\Uptime\\up</th>\n",
              "      <th>\\Memory\\buffers</th>\n",
              "      <th>\\Swap\\used</th>\n",
              "      <th>\\Swap\\free</th>\n",
              "      <th>\\Swap\\total</th>\n",
              "      <th>\\Tasks\\zombie</th>\n",
              "      <th>\\Tasks\\total</th>\n",
              "      <th>...</th>\n",
              "      <th>\\Cpu\\si</th>\n",
              "      <th>\\Tasks\\sleeping</th>\n",
              "      <th>\\Cpu\\hi</th>\n",
              "      <th>\\Load\\avg</th>\n",
              "      <th>\\Memory\\used</th>\n",
              "      <th>\\Cpu\\us</th>\n",
              "      <th>\\Cpu\\sy</th>\n",
              "      <th>\\Cpu\\ni</th>\n",
              "      <th>\\Cpu\\st</th>\n",
              "      <th>Unnamed: 27</th>\n",
              "    </tr>\n",
              "  </thead>\n",
              "  <tbody>\n",
              "    <tr>\n",
              "      <th>0</th>\n",
              "      <td>11.08.2014 07:35:46.154</td>\n",
              "      <td>-1</td>\n",
              "      <td>-1</td>\n",
              "      <td>-1</td>\n",
              "      <td>-1</td>\n",
              "      <td>28,494,004,224</td>\n",
              "      <td>4,978,638,848</td>\n",
              "      <td>33,473,691,648</td>\n",
              "      <td>-1</td>\n",
              "      <td>-1</td>\n",
              "      <td>...</td>\n",
              "      <td>-1</td>\n",
              "      <td>-1</td>\n",
              "      <td>-1</td>\n",
              "      <td>-1</td>\n",
              "      <td>-1</td>\n",
              "      <td>-1</td>\n",
              "      <td>-1</td>\n",
              "      <td>-1</td>\n",
              "      <td>-1</td>\n",
              "      <td>NaN</td>\n",
              "    </tr>\n",
              "    <tr>\n",
              "      <th>1</th>\n",
              "      <td>11.08.2014 07:36:49.348</td>\n",
              "      <td>-1</td>\n",
              "      <td>-1</td>\n",
              "      <td>-1</td>\n",
              "      <td>-1</td>\n",
              "      <td>28,490,858,496</td>\n",
              "      <td>4,981,784,576</td>\n",
              "      <td>33,473,691,648</td>\n",
              "      <td>-1</td>\n",
              "      <td>-1</td>\n",
              "      <td>...</td>\n",
              "      <td>-1</td>\n",
              "      <td>-1</td>\n",
              "      <td>-1</td>\n",
              "      <td>-1</td>\n",
              "      <td>-1</td>\n",
              "      <td>-1</td>\n",
              "      <td>-1</td>\n",
              "      <td>-1</td>\n",
              "      <td>-1</td>\n",
              "      <td>NaN</td>\n",
              "    </tr>\n",
              "    <tr>\n",
              "      <th>2</th>\n",
              "      <td>11.08.2014 07:37:56.314</td>\n",
              "      <td>-1</td>\n",
              "      <td>-1</td>\n",
              "      <td>-1</td>\n",
              "      <td>-1</td>\n",
              "      <td>28,549,578,752</td>\n",
              "      <td>4,923,064,320</td>\n",
              "      <td>33,473,691,648</td>\n",
              "      <td>-1</td>\n",
              "      <td>-1</td>\n",
              "      <td>...</td>\n",
              "      <td>-1</td>\n",
              "      <td>-1</td>\n",
              "      <td>-1</td>\n",
              "      <td>-1</td>\n",
              "      <td>-1</td>\n",
              "      <td>-1</td>\n",
              "      <td>-1</td>\n",
              "      <td>-1</td>\n",
              "      <td>-1</td>\n",
              "      <td>NaN</td>\n",
              "    </tr>\n",
              "    <tr>\n",
              "      <th>3</th>\n",
              "      <td>11.08.2014 07:38:58.021</td>\n",
              "      <td>-1</td>\n",
              "      <td>-1</td>\n",
              "      <td>-1</td>\n",
              "      <td>-1</td>\n",
              "      <td>28,494,004,224</td>\n",
              "      <td>4,979,687,424</td>\n",
              "      <td>33,473,691,648</td>\n",
              "      <td>-1</td>\n",
              "      <td>-1</td>\n",
              "      <td>...</td>\n",
              "      <td>-1</td>\n",
              "      <td>-1</td>\n",
              "      <td>-1</td>\n",
              "      <td>-1</td>\n",
              "      <td>-1</td>\n",
              "      <td>-1</td>\n",
              "      <td>-1</td>\n",
              "      <td>-1</td>\n",
              "      <td>-1</td>\n",
              "      <td>NaN</td>\n",
              "    </tr>\n",
              "    <tr>\n",
              "      <th>4</th>\n",
              "      <td>11.08.2014 07:39:58.845</td>\n",
              "      <td>-1</td>\n",
              "      <td>-1</td>\n",
              "      <td>-1</td>\n",
              "      <td>-1</td>\n",
              "      <td>28,651,290,624</td>\n",
              "      <td>4,822,401,024</td>\n",
              "      <td>33,473,691,648</td>\n",
              "      <td>-1</td>\n",
              "      <td>-1</td>\n",
              "      <td>...</td>\n",
              "      <td>-1</td>\n",
              "      <td>-1</td>\n",
              "      <td>-1</td>\n",
              "      <td>-1</td>\n",
              "      <td>-1</td>\n",
              "      <td>-1</td>\n",
              "      <td>-1</td>\n",
              "      <td>-1</td>\n",
              "      <td>-1</td>\n",
              "      <td>NaN</td>\n",
              "    </tr>\n",
              "  </tbody>\n",
              "</table>\n",
              "<p>5 rows × 28 columns</p>\n",
              "</div>\n",
              "      <button class=\"colab-df-convert\" onclick=\"convertToInteractive('df-ebcba6a5-806e-408b-acd5-1779f4a985ff')\"\n",
              "              title=\"Convert this dataframe to an interactive table.\"\n",
              "              style=\"display:none;\">\n",
              "        \n",
              "  <svg xmlns=\"http://www.w3.org/2000/svg\" height=\"24px\"viewBox=\"0 0 24 24\"\n",
              "       width=\"24px\">\n",
              "    <path d=\"M0 0h24v24H0V0z\" fill=\"none\"/>\n",
              "    <path d=\"M18.56 5.44l.94 2.06.94-2.06 2.06-.94-2.06-.94-.94-2.06-.94 2.06-2.06.94zm-11 1L8.5 8.5l.94-2.06 2.06-.94-2.06-.94L8.5 2.5l-.94 2.06-2.06.94zm10 10l.94 2.06.94-2.06 2.06-.94-2.06-.94-.94-2.06-.94 2.06-2.06.94z\"/><path d=\"M17.41 7.96l-1.37-1.37c-.4-.4-.92-.59-1.43-.59-.52 0-1.04.2-1.43.59L10.3 9.45l-7.72 7.72c-.78.78-.78 2.05 0 2.83L4 21.41c.39.39.9.59 1.41.59.51 0 1.02-.2 1.41-.59l7.78-7.78 2.81-2.81c.8-.78.8-2.07 0-2.86zM5.41 20L4 18.59l7.72-7.72 1.47 1.35L5.41 20z\"/>\n",
              "  </svg>\n",
              "      </button>\n",
              "      \n",
              "  <style>\n",
              "    .colab-df-container {\n",
              "      display:flex;\n",
              "      flex-wrap:wrap;\n",
              "      gap: 12px;\n",
              "    }\n",
              "\n",
              "    .colab-df-convert {\n",
              "      background-color: #E8F0FE;\n",
              "      border: none;\n",
              "      border-radius: 50%;\n",
              "      cursor: pointer;\n",
              "      display: none;\n",
              "      fill: #1967D2;\n",
              "      height: 32px;\n",
              "      padding: 0 0 0 0;\n",
              "      width: 32px;\n",
              "    }\n",
              "\n",
              "    .colab-df-convert:hover {\n",
              "      background-color: #E2EBFA;\n",
              "      box-shadow: 0px 1px 2px rgba(60, 64, 67, 0.3), 0px 1px 3px 1px rgba(60, 64, 67, 0.15);\n",
              "      fill: #174EA6;\n",
              "    }\n",
              "\n",
              "    [theme=dark] .colab-df-convert {\n",
              "      background-color: #3B4455;\n",
              "      fill: #D2E3FC;\n",
              "    }\n",
              "\n",
              "    [theme=dark] .colab-df-convert:hover {\n",
              "      background-color: #434B5C;\n",
              "      box-shadow: 0px 1px 3px 1px rgba(0, 0, 0, 0.15);\n",
              "      filter: drop-shadow(0px 1px 2px rgba(0, 0, 0, 0.3));\n",
              "      fill: #FFFFFF;\n",
              "    }\n",
              "  </style>\n",
              "\n",
              "      <script>\n",
              "        const buttonEl =\n",
              "          document.querySelector('#df-ebcba6a5-806e-408b-acd5-1779f4a985ff button.colab-df-convert');\n",
              "        buttonEl.style.display =\n",
              "          google.colab.kernel.accessAllowed ? 'block' : 'none';\n",
              "\n",
              "        async function convertToInteractive(key) {\n",
              "          const element = document.querySelector('#df-ebcba6a5-806e-408b-acd5-1779f4a985ff');\n",
              "          const dataTable =\n",
              "            await google.colab.kernel.invokeFunction('convertToInteractive',\n",
              "                                                     [key], {});\n",
              "          if (!dataTable) return;\n",
              "\n",
              "          const docLinkHtml = 'Like what you see? Visit the ' +\n",
              "            '<a target=\"_blank\" href=https://colab.research.google.com/notebooks/data_table.ipynb>data table notebook</a>'\n",
              "            + ' to learn more about interactive tables.';\n",
              "          element.innerHTML = '';\n",
              "          dataTable['output_type'] = 'display_data';\n",
              "          await google.colab.output.renderOutput(dataTable, element);\n",
              "          const docLink = document.createElement('div');\n",
              "          docLink.innerHTML = docLinkHtml;\n",
              "          element.appendChild(docLink);\n",
              "        }\n",
              "      </script>\n",
              "    </div>\n",
              "  </div>\n",
              "  "
            ],
            "text/plain": [
              "                      Date  \\User\\users  \\Memory\\total  \\Uptime\\up  \\\n",
              "0  11.08.2014 07:35:46.154           -1             -1          -1   \n",
              "1  11.08.2014 07:36:49.348           -1             -1          -1   \n",
              "2  11.08.2014 07:37:56.314           -1             -1          -1   \n",
              "3  11.08.2014 07:38:58.021           -1             -1          -1   \n",
              "4  11.08.2014 07:39:58.845           -1             -1          -1   \n",
              "\n",
              "   \\Memory\\buffers      \\Swap\\used     \\Swap\\free     \\Swap\\total  \\\n",
              "0               -1  28,494,004,224  4,978,638,848  33,473,691,648   \n",
              "1               -1  28,490,858,496  4,981,784,576  33,473,691,648   \n",
              "2               -1  28,549,578,752  4,923,064,320  33,473,691,648   \n",
              "3               -1  28,494,004,224  4,979,687,424  33,473,691,648   \n",
              "4               -1  28,651,290,624  4,822,401,024  33,473,691,648   \n",
              "\n",
              "   \\Tasks\\zombie  \\Tasks\\total  ...  \\Cpu\\si  \\Tasks\\sleeping  \\Cpu\\hi  \\\n",
              "0             -1            -1  ...       -1               -1       -1   \n",
              "1             -1            -1  ...       -1               -1       -1   \n",
              "2             -1            -1  ...       -1               -1       -1   \n",
              "3             -1            -1  ...       -1               -1       -1   \n",
              "4             -1            -1  ...       -1               -1       -1   \n",
              "\n",
              "   \\Load\\avg  \\Memory\\used  \\Cpu\\us  \\Cpu\\sy  \\Cpu\\ni  \\Cpu\\st  Unnamed: 27  \n",
              "0         -1            -1       -1       -1       -1       -1          NaN  \n",
              "1         -1            -1       -1       -1       -1       -1          NaN  \n",
              "2         -1            -1       -1       -1       -1       -1          NaN  \n",
              "3         -1            -1       -1       -1       -1       -1          NaN  \n",
              "4         -1            -1       -1       -1       -1       -1          NaN  \n",
              "\n",
              "[5 rows x 28 columns]"
            ]
          },
          "execution_count": 4,
          "metadata": {},
          "output_type": "execute_result"
        }
      ],
      "source": [
        "dfs[2].head()"
      ]
    },
    {
      "cell_type": "markdown",
      "metadata": {
        "id": "lX_RkwkMd3WX"
      },
      "source": [
        "### Creating log file clusters based on column names"
      ]
    },
    {
      "cell_type": "code",
      "execution_count": 5,
      "metadata": {
        "id": "zG_bka7cd_KD"
      },
      "outputs": [],
      "source": [
        "from sklearn.feature_extraction.text import CountVectorizer\n",
        "from sklearn.decomposition import PCA\n",
        "from sklearn.cluster import DBSCAN\n",
        "from sklearn.preprocessing import StandardScaler\n",
        "\n",
        "\n",
        "# # List of log file paths\n",
        "# log_files = ['log_file1.csv', 'log_file2.csv', 'log_file3.csv', ...]\n",
        "\n",
        "# Load log files into separate DataFrames\n",
        "dataframes = dfs\n",
        "# for file in log_files:\n",
        "#     df = pd.read_csv(file)\n",
        "#     dataframes.append(df)\n",
        "\n",
        "# Extract column names from each DataFrame\n",
        "column_names = []\n",
        "for df in dataframes:\n",
        "    column_names.append(df.columns.tolist())\n",
        "\n",
        "# print(column_names)\n",
        "\n"
      ]
    },
    {
      "cell_type": "code",
      "execution_count": 6,
      "metadata": {
        "id": "MwwF40ievSl5"
      },
      "outputs": [],
      "source": [
        "file_path = \"/content/drive/MyDrive/SEM 06/6SP/columns.txt\"\n",
        "# Open the file in write mode\n",
        "with open(file_path, 'w') as file:\n",
        "  for cols in column_names:\n",
        "    for col in cols:\n",
        "      file.write(col)\n",
        "      file.write('\\n')\n",
        "\n",
        "with open(file_path, 'r') as file:\n",
        "    lines = file.readlines()\n",
        "\n",
        "\n",
        "# Create feature matrix\n",
        "vectorizer = CountVectorizer(binary=True)\n",
        "X = vectorizer.fit_transform(lines)\n",
        "\n",
        "# Apply dimensionality reduction\n",
        "pca = PCA(n_components=2)  # You can adjust the number of components\n",
        "X_reduced = pca.fit_transform(X.toarray())\n",
        "\n",
        "# Perform clustering with DBSCAN\n",
        "scaler = StandardScaler()\n",
        "X_reduced_scaled = scaler.fit_transform(X_reduced)\n",
        "\n",
        "# dbscan = DBSCAN(eps=0.5, min_samples=2)  # Adjust the eps and min_samples values <----------------------------------\n",
        "# clusters = dbscan.fit_predict(X_reduced_scaled)\n",
        "\n",
        "\n",
        "# # Step 8: Assign log files to clusters\n",
        "# log_files_clusters = {}\n",
        "# for i, file in enumerate(log_files):\n",
        "#     log_files_clusters[file] = clusters[i]\n",
        "\n",
        "# # Print the log file and its corresponding cluster\n",
        "# for file, cluster in log_files_clusters.items():\n",
        "#     print(f\"Log file: {file}, Cluster: {cluster}\")"
      ]
    },
    {
      "cell_type": "code",
      "execution_count": 12,
      "metadata": {
        "colab": {
          "base_uri": "https://localhost:8080/"
        },
        "id": "Y21tEVBGzPbb",
        "outputId": "491de331-2505-4955-dfa1-a2ca421000c3"
      },
      "outputs": [
        {
          "name": "stdout",
          "output_type": "stream",
          "text": [
            "[0 0 0 ... 0 0 0]\n",
            "Done!\n"
          ]
        }
      ],
      "source": [
        "dbscan = DBSCAN(eps=0.5, min_samples=2)  # Adjust the eps and min_samples values <----------------------------------\n",
        "clusters = dbscan.fit_predict(X_reduced_scaled)\n",
        "\n",
        "print(clusters)\n",
        "\n",
        "\n",
        "# Assign log files to clusters\n",
        "log_files_clusters = {}\n",
        "for i, file in enumerate(log_files):\n",
        "    log_files_clusters[file] = clusters[i]\n",
        "\n"
      ]
    }
  ],
  "metadata": {
    "colab": {
      "provenance": []
    },
    "kernelspec": {
      "display_name": "Python 3",
      "name": "python3"
    },
    "language_info": {
      "name": "python"
    }
  },
  "nbformat": 4,
  "nbformat_minor": 0
}
