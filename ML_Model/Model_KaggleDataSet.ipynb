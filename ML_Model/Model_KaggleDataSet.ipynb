{
  "nbformat": 4,
  "nbformat_minor": 0,
  "metadata": {
    "colab": {
      "provenance": []
    },
    "kernelspec": {
      "name": "python3",
      "display_name": "Python 3"
    },
    "language_info": {
      "name": "python"
    }
  },
  "cells": [
    {
      "cell_type": "markdown",
      "source": [
        "### Loading dataset"
      ],
      "metadata": {
        "id": "We1M0nekLpKM"
      }
    },
    {
      "cell_type": "code",
      "source": [
        "from google.colab import drive\n",
        "from google.colab import files\n",
        "import os\n",
        "\n",
        "# Mount Google Drive\n",
        "drive.mount('/content/drive')\n",
        "\n",
        "# Path to dataset file on Google Drive\n",
        "folder_path2014 = \"/content/drive/MyDrive/SEM 06/6SP/Raw Operational Data from Enterprise Application - KAGGLE.zip (Unzipped Files)/2014\"\n",
        "folder_path2015 = \"/content/drive/MyDrive/SEM 06/6SP/Raw Operational Data from Enterprise Application - KAGGLE.zip (Unzipped Files)/2015\"\n",
        "\n",
        "folders = [folder_path2014, folder_path2015]\n",
        "\n",
        "# Log file list\n",
        "log_files = []\n",
        "\n",
        "file_path = \"/content/drive/MyDrive/SEM 06/6SP/all_log_files.txt\"\n",
        "\n",
        "# Open the file in write mode\n",
        "with open(file_path, 'w') as file:\n",
        "  for folder in folders:\n",
        "    for dirname, _, filenames in os.walk(folder):\n",
        "        for filename in filenames:\n",
        "            # print(os.path.join(dirname, filename))\n",
        "            # Write content to the file\n",
        "            file.write(os.path.join(dirname, filename))\n",
        "            file.write(\"\\n\")\n",
        "\n",
        "\n",
        "print(\"All file names saved to all_log_files.txt \")"
      ],
      "metadata": {
        "colab": {
          "base_uri": "https://localhost:8080/"
        },
        "id": "4sOYTZMCLqmv",
        "outputId": "bc51a479-4422-41b0-ad58-b71e81dbd792"
      },
      "execution_count": 28,
      "outputs": [
        {
          "output_type": "stream",
          "name": "stdout",
          "text": [
            "Drive already mounted at /content/drive; to attempt to forcibly remount, call drive.mount(\"/content/drive\", force_remount=True).\n",
            "All file names saved to all_log_files.txt \n"
          ]
        }
      ]
    },
    {
      "cell_type": "code",
      "source": [
        "import random\n",
        "\n",
        "# Set the range for random numbers\n",
        "start_range = 1\n",
        "end_range = 18337\n",
        "num_samples = 10\n",
        "\n",
        "# Generate a list of random numbers\n",
        "random_numbers = random.sample(range(start_range, end_range + 1), num_samples)\n",
        "\n",
        "# Print the list of random numbers\n",
        "print(random_numbers)"
      ],
      "metadata": {
        "colab": {
          "base_uri": "https://localhost:8080/"
        },
        "id": "rjwz03zyXRv9",
        "outputId": "6725123e-bdbc-412f-a8a7-1d137dec4c64"
      },
      "execution_count": 29,
      "outputs": [
        {
          "output_type": "stream",
          "name": "stdout",
          "text": [
            "[16030, 2498, 228, 1358, 12898, 11977, 3515, 9022, 11331, 9424]\n"
          ]
        }
      ]
    },
    {
      "cell_type": "markdown",
      "source": [
        "### Creating dataframes from log files\n"
      ],
      "metadata": {
        "id": "ItD4kdPpT8lp"
      }
    },
    {
      "cell_type": "code",
      "source": [
        "import pandas as pd\n",
        "\n",
        "# Read the CSV file into a DataFrame\n",
        "# df = pd.read_csv(file_path)\n",
        "# print(df)\n",
        "\n",
        "# List of dataframes\n",
        "dfs = []\n",
        "\n",
        "\n",
        "# file_path = \"/content/drive/MyDrive/SEM 06/6SP/all_log_files.txt\"\n",
        "\n",
        "i = 0 # For line number\n",
        "\n",
        "# Open the file in read mode\n",
        "with open(file_path, 'r') as file:\n",
        "    # Read the file line by line\n",
        "    for line in file:\n",
        "      i += 1\n",
        "      if i > max(random_numbers):\n",
        "        break\n",
        "      if i in random_numbers:\n",
        "        dfs.append( pd.read_csv(line.strip(),low_memory=False))\n",
        "\n",
        "\n",
        "print(len(dfs))\n"
      ],
      "metadata": {
        "colab": {
          "base_uri": "https://localhost:8080/"
        },
        "id": "wFG14kpnV9d9",
        "outputId": "252d5446-e355-4c35-e44c-bfdbd27703e8"
      },
      "execution_count": 43,
      "outputs": [
        {
          "output_type": "stream",
          "name": "stdout",
          "text": [
            "10\n"
          ]
        }
      ]
    },
    {
      "cell_type": "markdown",
      "source": [
        "###Dropping empty log file dataframes"
      ],
      "metadata": {
        "id": "ZqWKVLgvYhtM"
      }
    },
    {
      "cell_type": "code",
      "source": [
        "print(\"Initial no. of dataframes = \",len(dfs))\n",
        "empty_file_count = 0\n",
        "i = -1\n",
        "for df in dfs:\n",
        "  i +=1\n",
        "  if len(df) == 0:\n",
        "    empty_file_count +=1\n",
        "    print(\"Empty file found! Total = \",empty_file_count)\n",
        "    del dfs[i]\n",
        "\n",
        "\n",
        "print(\"Final no. of dataframes = \",len(dfs))"
      ],
      "metadata": {
        "colab": {
          "base_uri": "https://localhost:8080/"
        },
        "id": "3PL6ncfGYqzY",
        "outputId": "b9c8fc47-3af0-42ba-94fe-cba412c9dcb4"
      },
      "execution_count": 44,
      "outputs": [
        {
          "output_type": "stream",
          "name": "stdout",
          "text": [
            "Initial no. of dataframes =  10\n",
            "Empty file found! Total =  1\n",
            "Final no. of dataframes =  9\n"
          ]
        }
      ]
    },
    {
      "cell_type": "markdown",
      "source": [
        "### Viewing some df from dfs"
      ],
      "metadata": {
        "id": "wjVyxvRPc3Kf"
      }
    },
    {
      "cell_type": "code",
      "source": [
        "len(dfs[3])\n",
        "dfs[3].head()"
      ],
      "metadata": {
        "colab": {
          "base_uri": "https://localhost:8080/",
          "height": 375
        },
        "id": "_iDiXhdKc2ph",
        "outputId": "424300d6-7dfb-4fae-eb18-c82f65d7b187"
      },
      "execution_count": 46,
      "outputs": [
        {
          "output_type": "execute_result",
          "data": {
            "text/plain": [
              "                      Date \\Process(java#1)\\RES \\Process(java#1)\\USER  \\\n",
              "0  04.12.2014 00:00:43.913            1,595,115           553,650,281   \n",
              "1  04.12.2014 00:01:44.904            1,595,115           553,650,281   \n",
              "2  04.12.2014 00:02:46.012            1,595,115           553,650,281   \n",
              "3  04.12.2014 00:03:47.151            1,595,115           553,650,281   \n",
              "4  04.12.2014 00:04:48.527            1,595,115           553,650,281   \n",
              "\n",
              "  \\Process(java#1)\\SHR  \\Process(java#1)\\PR  \\Process(java#1)\\S  \\\n",
              "0           32,505,856                   20                  83   \n",
              "1           32,505,856                   20                  83   \n",
              "2           32,505,856                   20                  83   \n",
              "3           32,505,856                   20                  83   \n",
              "4           32,505,856                   20                  83   \n",
              "\n",
              "  \\Process(java#1)\\CPU  \\Process(java#1)\\NI \\Process(java#1)\\PID  \\\n",
              "0                    0                    0                9,704   \n",
              "1                    0                    0                9,704   \n",
              "2                    2                    0                9,704   \n",
              "3                    0                    0                9,704   \n",
              "4                    2                    0                9,704   \n",
              "\n",
              "   \\Process(java#1)\\MEM \\Process(java#1)\\TIME \\Process(java#1)\\VIRT  \\\n",
              "0                  14.8               125,933            46,817,760   \n",
              "1                  14.8               125,934            46,817,760   \n",
              "2                  14.8               125,935            46,817,760   \n",
              "3                  14.8               125,936            46,817,760   \n",
              "4                  14.8               125,938            46,817,760   \n",
              "\n",
              "   Unnamed: 12  \n",
              "0          NaN  \n",
              "1          NaN  \n",
              "2          NaN  \n",
              "3          NaN  \n",
              "4          NaN  "
            ],
            "text/html": [
              "\n",
              "  <div id=\"df-dad879bb-941a-4044-9459-0c3a7ee7de9f\">\n",
              "    <div class=\"colab-df-container\">\n",
              "      <div>\n",
              "<style scoped>\n",
              "    .dataframe tbody tr th:only-of-type {\n",
              "        vertical-align: middle;\n",
              "    }\n",
              "\n",
              "    .dataframe tbody tr th {\n",
              "        vertical-align: top;\n",
              "    }\n",
              "\n",
              "    .dataframe thead th {\n",
              "        text-align: right;\n",
              "    }\n",
              "</style>\n",
              "<table border=\"1\" class=\"dataframe\">\n",
              "  <thead>\n",
              "    <tr style=\"text-align: right;\">\n",
              "      <th></th>\n",
              "      <th>Date</th>\n",
              "      <th>\\Process(java#1)\\RES</th>\n",
              "      <th>\\Process(java#1)\\USER</th>\n",
              "      <th>\\Process(java#1)\\SHR</th>\n",
              "      <th>\\Process(java#1)\\PR</th>\n",
              "      <th>\\Process(java#1)\\S</th>\n",
              "      <th>\\Process(java#1)\\CPU</th>\n",
              "      <th>\\Process(java#1)\\NI</th>\n",
              "      <th>\\Process(java#1)\\PID</th>\n",
              "      <th>\\Process(java#1)\\MEM</th>\n",
              "      <th>\\Process(java#1)\\TIME</th>\n",
              "      <th>\\Process(java#1)\\VIRT</th>\n",
              "      <th>Unnamed: 12</th>\n",
              "    </tr>\n",
              "  </thead>\n",
              "  <tbody>\n",
              "    <tr>\n",
              "      <th>0</th>\n",
              "      <td>04.12.2014 00:00:43.913</td>\n",
              "      <td>1,595,115</td>\n",
              "      <td>553,650,281</td>\n",
              "      <td>32,505,856</td>\n",
              "      <td>20</td>\n",
              "      <td>83</td>\n",
              "      <td>0</td>\n",
              "      <td>0</td>\n",
              "      <td>9,704</td>\n",
              "      <td>14.8</td>\n",
              "      <td>125,933</td>\n",
              "      <td>46,817,760</td>\n",
              "      <td>NaN</td>\n",
              "    </tr>\n",
              "    <tr>\n",
              "      <th>1</th>\n",
              "      <td>04.12.2014 00:01:44.904</td>\n",
              "      <td>1,595,115</td>\n",
              "      <td>553,650,281</td>\n",
              "      <td>32,505,856</td>\n",
              "      <td>20</td>\n",
              "      <td>83</td>\n",
              "      <td>0</td>\n",
              "      <td>0</td>\n",
              "      <td>9,704</td>\n",
              "      <td>14.8</td>\n",
              "      <td>125,934</td>\n",
              "      <td>46,817,760</td>\n",
              "      <td>NaN</td>\n",
              "    </tr>\n",
              "    <tr>\n",
              "      <th>2</th>\n",
              "      <td>04.12.2014 00:02:46.012</td>\n",
              "      <td>1,595,115</td>\n",
              "      <td>553,650,281</td>\n",
              "      <td>32,505,856</td>\n",
              "      <td>20</td>\n",
              "      <td>83</td>\n",
              "      <td>2</td>\n",
              "      <td>0</td>\n",
              "      <td>9,704</td>\n",
              "      <td>14.8</td>\n",
              "      <td>125,935</td>\n",
              "      <td>46,817,760</td>\n",
              "      <td>NaN</td>\n",
              "    </tr>\n",
              "    <tr>\n",
              "      <th>3</th>\n",
              "      <td>04.12.2014 00:03:47.151</td>\n",
              "      <td>1,595,115</td>\n",
              "      <td>553,650,281</td>\n",
              "      <td>32,505,856</td>\n",
              "      <td>20</td>\n",
              "      <td>83</td>\n",
              "      <td>0</td>\n",
              "      <td>0</td>\n",
              "      <td>9,704</td>\n",
              "      <td>14.8</td>\n",
              "      <td>125,936</td>\n",
              "      <td>46,817,760</td>\n",
              "      <td>NaN</td>\n",
              "    </tr>\n",
              "    <tr>\n",
              "      <th>4</th>\n",
              "      <td>04.12.2014 00:04:48.527</td>\n",
              "      <td>1,595,115</td>\n",
              "      <td>553,650,281</td>\n",
              "      <td>32,505,856</td>\n",
              "      <td>20</td>\n",
              "      <td>83</td>\n",
              "      <td>2</td>\n",
              "      <td>0</td>\n",
              "      <td>9,704</td>\n",
              "      <td>14.8</td>\n",
              "      <td>125,938</td>\n",
              "      <td>46,817,760</td>\n",
              "      <td>NaN</td>\n",
              "    </tr>\n",
              "  </tbody>\n",
              "</table>\n",
              "</div>\n",
              "      <button class=\"colab-df-convert\" onclick=\"convertToInteractive('df-dad879bb-941a-4044-9459-0c3a7ee7de9f')\"\n",
              "              title=\"Convert this dataframe to an interactive table.\"\n",
              "              style=\"display:none;\">\n",
              "        \n",
              "  <svg xmlns=\"http://www.w3.org/2000/svg\" height=\"24px\"viewBox=\"0 0 24 24\"\n",
              "       width=\"24px\">\n",
              "    <path d=\"M0 0h24v24H0V0z\" fill=\"none\"/>\n",
              "    <path d=\"M18.56 5.44l.94 2.06.94-2.06 2.06-.94-2.06-.94-.94-2.06-.94 2.06-2.06.94zm-11 1L8.5 8.5l.94-2.06 2.06-.94-2.06-.94L8.5 2.5l-.94 2.06-2.06.94zm10 10l.94 2.06.94-2.06 2.06-.94-2.06-.94-.94-2.06-.94 2.06-2.06.94z\"/><path d=\"M17.41 7.96l-1.37-1.37c-.4-.4-.92-.59-1.43-.59-.52 0-1.04.2-1.43.59L10.3 9.45l-7.72 7.72c-.78.78-.78 2.05 0 2.83L4 21.41c.39.39.9.59 1.41.59.51 0 1.02-.2 1.41-.59l7.78-7.78 2.81-2.81c.8-.78.8-2.07 0-2.86zM5.41 20L4 18.59l7.72-7.72 1.47 1.35L5.41 20z\"/>\n",
              "  </svg>\n",
              "      </button>\n",
              "      \n",
              "  <style>\n",
              "    .colab-df-container {\n",
              "      display:flex;\n",
              "      flex-wrap:wrap;\n",
              "      gap: 12px;\n",
              "    }\n",
              "\n",
              "    .colab-df-convert {\n",
              "      background-color: #E8F0FE;\n",
              "      border: none;\n",
              "      border-radius: 50%;\n",
              "      cursor: pointer;\n",
              "      display: none;\n",
              "      fill: #1967D2;\n",
              "      height: 32px;\n",
              "      padding: 0 0 0 0;\n",
              "      width: 32px;\n",
              "    }\n",
              "\n",
              "    .colab-df-convert:hover {\n",
              "      background-color: #E2EBFA;\n",
              "      box-shadow: 0px 1px 2px rgba(60, 64, 67, 0.3), 0px 1px 3px 1px rgba(60, 64, 67, 0.15);\n",
              "      fill: #174EA6;\n",
              "    }\n",
              "\n",
              "    [theme=dark] .colab-df-convert {\n",
              "      background-color: #3B4455;\n",
              "      fill: #D2E3FC;\n",
              "    }\n",
              "\n",
              "    [theme=dark] .colab-df-convert:hover {\n",
              "      background-color: #434B5C;\n",
              "      box-shadow: 0px 1px 3px 1px rgba(0, 0, 0, 0.15);\n",
              "      filter: drop-shadow(0px 1px 2px rgba(0, 0, 0, 0.3));\n",
              "      fill: #FFFFFF;\n",
              "    }\n",
              "  </style>\n",
              "\n",
              "      <script>\n",
              "        const buttonEl =\n",
              "          document.querySelector('#df-dad879bb-941a-4044-9459-0c3a7ee7de9f button.colab-df-convert');\n",
              "        buttonEl.style.display =\n",
              "          google.colab.kernel.accessAllowed ? 'block' : 'none';\n",
              "\n",
              "        async function convertToInteractive(key) {\n",
              "          const element = document.querySelector('#df-dad879bb-941a-4044-9459-0c3a7ee7de9f');\n",
              "          const dataTable =\n",
              "            await google.colab.kernel.invokeFunction('convertToInteractive',\n",
              "                                                     [key], {});\n",
              "          if (!dataTable) return;\n",
              "\n",
              "          const docLinkHtml = 'Like what you see? Visit the ' +\n",
              "            '<a target=\"_blank\" href=https://colab.research.google.com/notebooks/data_table.ipynb>data table notebook</a>'\n",
              "            + ' to learn more about interactive tables.';\n",
              "          element.innerHTML = '';\n",
              "          dataTable['output_type'] = 'display_data';\n",
              "          await google.colab.output.renderOutput(dataTable, element);\n",
              "          const docLink = document.createElement('div');\n",
              "          docLink.innerHTML = docLinkHtml;\n",
              "          element.appendChild(docLink);\n",
              "        }\n",
              "      </script>\n",
              "    </div>\n",
              "  </div>\n",
              "  "
            ]
          },
          "metadata": {},
          "execution_count": 46
        }
      ]
    },
    {
      "cell_type": "markdown",
      "source": [
        "### Creating log file clusters based on column names"
      ],
      "metadata": {
        "id": "lX_RkwkMd3WX"
      }
    },
    {
      "cell_type": "code",
      "source": [
        "from sklearn.feature_extraction.text import CountVectorizer\n",
        "from sklearn.decomposition import PCA\n",
        "from sklearn.cluster import DBSCAN\n",
        "from sklearn.preprocessing import StandardScaler\n",
        "\n",
        "\n",
        "# Load log files into separate DataFrames\n",
        "dataframes = dfs\n",
        "\n",
        "# Extract column names from each DataFrame\n",
        "column_names = []\n",
        "for df in dataframes:\n",
        "    column_names.append(df.columns.tolist())\n",
        "\n",
        "print(len(column_names[3]))\n",
        "\n"
      ],
      "metadata": {
        "id": "zG_bka7cd_KD",
        "colab": {
          "base_uri": "https://localhost:8080/"
        },
        "outputId": "cbedc174-0554-43cd-bc58-7e8fe40dfaa7"
      },
      "execution_count": 50,
      "outputs": [
        {
          "output_type": "stream",
          "name": "stdout",
          "text": [
            "13\n"
          ]
        }
      ]
    },
    {
      "cell_type": "code",
      "source": [
        "# Creating a pyton set to store column names\n",
        "columns_set =set()\n",
        "\n",
        "file_path = \"/content/drive/MyDrive/SEM 06/6SP/columns.txt\"\n",
        "# Open the file in write mode\n",
        "with open(file_path, 'w') as file:\n",
        "  for cols in column_names:\n",
        "    for col in cols:\n",
        "      file.write(col)\n",
        "      file.write('\\n')\n",
        "\n",
        "with open(file_path, 'r') as file:\n",
        "    lines = file.readlines()\n",
        "\n",
        "\n",
        "# Reading column names and adding to the set\n",
        "with open(file_path, 'r') as file:\n",
        "    for line in file:\n",
        "      columns_set.add(line)\n",
        "# lines = all columns including repetitions\n",
        "print('Duplicate coumn names = ',len(lines)-len(columns_set))\n",
        "\n",
        "\n",
        "\n",
        "# Create feature matrix\n",
        "vectorizer = CountVectorizer(binary=True)\n",
        "X = vectorizer.fit_transform(lines)\n",
        "\n",
        "# Apply dimensionality reduction\n",
        "pca = PCA(n_components=2)  # You can adjust the number of components\n",
        "X_reduced = pca.fit_transform(X.toarray())\n",
        "\n",
        "# Perform clustering with DBSCAN\n",
        "scaler = StandardScaler()\n",
        "X_reduced_scaled = scaler.fit_transform(X_reduced)\n",
        "\n",
        "\n"
      ],
      "metadata": {
        "id": "MwwF40ievSl5",
        "colab": {
          "base_uri": "https://localhost:8080/"
        },
        "outputId": "f3ebe83e-036d-4469-8de0-36ad0a455d6b"
      },
      "execution_count": 58,
      "outputs": [
        {
          "output_type": "stream",
          "name": "stdout",
          "text": [
            "Duplicate coumn names =  436\n"
          ]
        }
      ]
    },
    {
      "cell_type": "code",
      "source": [
        "dbscan = DBSCAN(eps=0.5, min_samples=2)  # Adjust the eps and min_samples values <----------------------------------\n",
        "clusters = dbscan.fit_predict(X_reduced_scaled)\n",
        "\n",
        "print(clusters)\n",
        "\n",
        "\n",
        "# Assign log files to clusters\n",
        "log_files_clusters = {}\n",
        "for i, file in enumerate(log_files):\n",
        "    log_files_clusters[file] = clusters[i]\n",
        "\n",
        "# Print the log file and its corresponding cluster\n",
        "for file, cluster in log_files_clusters.items():\n",
        "    print(f\"Log file: {file}, Cluster: {cluster}\")\n",
        "    print(\"Done!\")\n",
        "\n",
        "\n",
        "print(\"Done!!!\")"
      ],
      "metadata": {
        "colab": {
          "base_uri": "https://localhost:8080/"
        },
        "id": "Y21tEVBGzPbb",
        "outputId": "ec3cd314-7ec8-4569-f859-270f5549c572"
      },
      "execution_count": 26,
      "outputs": [
        {
          "output_type": "stream",
          "name": "stdout",
          "text": [
            "[0 0 0 ... 0 0 0]\n",
            "Done!!!\n"
          ]
        }
      ]
    }
  ]
}