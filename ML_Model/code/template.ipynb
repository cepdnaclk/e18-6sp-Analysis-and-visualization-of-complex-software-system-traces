{
 "cells": [
  {
   "cell_type": "code",
   "execution_count": 5,
   "id": "7aaa0a68-82fe-4754-8821-9422cfcf8951",
   "metadata": {
    "tags": []
   },
   "outputs": [
    {
     "name": "stdout",
     "output_type": "stream",
     "text": [
      "The new log file belongs to Cluster 4\n"
     ]
    }
   ],
   "source": [
    "import pandas as pd\n",
    "import gensim\n",
    "import json\n",
    "\n",
    "# Load the cluster word sets from the JSON file\n",
    "with open('cluster_word_sets.json', 'r') as json_file:\n",
    "    cluster_word_sets = json.load(json_file)\n",
    "\n",
    "# Function to clean and preprocess column names\n",
    "def clean_and_preprocess(col_names):\n",
    "    cleaned_cols = []\n",
    "    for col in col_names:\n",
    "        # Clean and preprocess the column name using gensim\n",
    "        cleaned_col = gensim.utils.simple_preprocess(col)\n",
    "        cleaned_cols.extend(cleaned_col)\n",
    "    return cleaned_cols\n",
    "\n",
    "# Function to calculate similarity between two lists of strings\n",
    "def similarity(list1, list2):\n",
    "    common_elements = set(list1) & set(list2)\n",
    "    total_elements = set(list1) | set(list2)\n",
    "    return len(common_elements) / len(total_elements)\n",
    "\n",
    "# Load the new log file as a DataFrame\n",
    "new_log_file = pd.read_csv('Raw Operational Data from Enterprise Application - KAGGLE.zip (Unzipped Files)/2014/2014-CW-1/lphost06_global_unix-global_prod-appserver_2014.12.29_00.00.03.csv')\n",
    "\n",
    "# Clean and preprocess the column names of the new log file\n",
    "new_log_columns = clean_and_preprocess(new_log_file.columns.tolist())\n",
    "\n",
    "# Initialize variables to track the most similar cluster\n",
    "most_similar_cluster = None\n",
    "highest_similarity = 0.0\n",
    "\n",
    "# Compare the new log file columns with each cluster's word set\n",
    "for cluster_num, cluster_words in cluster_word_sets.items():\n",
    "    sim_score = similarity(new_log_columns, cluster_words)\n",
    "    if sim_score > highest_similarity:\n",
    "        highest_similarity = sim_score\n",
    "        most_similar_cluster = cluster_num + 1\n",
    "\n",
    "# Print the cluster that the new log file belongs to\n",
    "print(f\"The new log file belongs to Cluster {most_similar_cluster}\")"
   ]
  },
  {
   "cell_type": "code",
   "execution_count": null,
   "id": "081eb976-5494-4260-b1d9-07c469ff6d0b",
   "metadata": {},
   "outputs": [],
   "source": []
  }
 ],
 "metadata": {
  "kernelspec": {
   "display_name": "Python 3 (ipykernel)",
   "language": "python",
   "name": "python3"
  },
  "language_info": {
   "codemirror_mode": {
    "name": "ipython",
    "version": 3
   },
   "file_extension": ".py",
   "mimetype": "text/x-python",
   "name": "python",
   "nbconvert_exporter": "python",
   "pygments_lexer": "ipython3",
   "version": "3.8.18"
  }
 },
 "nbformat": 4,
 "nbformat_minor": 5
}
